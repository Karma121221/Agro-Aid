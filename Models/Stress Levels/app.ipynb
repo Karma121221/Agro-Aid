{
 "cells": [
  {
   "cell_type": "code",
   "execution_count": 11,
   "metadata": {},
   "outputs": [],
   "source": [
    "import joblib\n",
    "import numpy as np\n",
    "\n",
    "# Load the saved model\n",
    "model = joblib.load('plant_stress_rf_model.pkl')"
   ]
  },
  {
   "cell_type": "code",
   "execution_count": 12,
   "metadata": {},
   "outputs": [],
   "source": [
    "# Prompt user for input values\n",
    "soil_moisture = float(input(\"Enter Soil Moisture: \"))\n",
    "ambient_temperature = float(input(\"Enter Ambient Temperature: \"))\n",
    "soil_temperature = float(input(\"Enter Soil Temperature: \"))\n",
    "humidity = float(input(\"Enter Humidity: \"))\n",
    "light_intensity = float(input(\"Enter Light Intensity: \"))\n",
    "soil_ph = float(input(\"Enter Soil pH: \"))\n",
    "nitrogen_level = float(input(\"Enter Nitrogen Level: \"))\n",
    "phosphorus_level = float(input(\"Enter Phosphorus Level: \"))\n",
    "potassium_level = float(input(\"Enter Potassium Level: \"))\n",
    "chlorophyll_content = float(input(\"Enter Chlorophyll Content: \"))\n",
    "electrochemical_signal = float(input(\"Enter Electrochemical Signal: \"))"
   ]
  },
  {
   "cell_type": "code",
   "execution_count": 13,
   "metadata": {},
   "outputs": [
    {
     "name": "stdout",
     "output_type": "stream",
     "text": [
      "Predicted Plant Health Status (Stress Level): High Stress\n"
     ]
    },
    {
     "name": "stderr",
     "output_type": "stream",
     "text": [
      "c:\\Python\\lib\\site-packages\\sklearn\\base.py:439: UserWarning: X does not have valid feature names, but RandomForestClassifier was fitted with feature names\n",
      "  warnings.warn(\n"
     ]
    }
   ],
   "source": [
    "# Arrange the inputs in the order expected by the model\n",
    "# Make sure the order of features here matches the order used during training.\n",
    "input_features = np.array([soil_moisture, ambient_temperature, soil_temperature, humidity,\n",
    "                           light_intensity, soil_ph, nitrogen_level, phosphorus_level,\n",
    "                           potassium_level, chlorophyll_content, electrochemical_signal]).reshape(1, -1)\n",
    "\n",
    "# Predict the plant's health status (stress level)\n",
    "prediction = model.predict(input_features)\n",
    "print(\"Predicted Plant Health Status (Stress Level):\", prediction[0])"
   ]
  },
  {
   "cell_type": "code",
   "execution_count": 10,
   "metadata": {},
   "outputs": [],
   "source": [
    "import joblib\n",
    "import m2cgen as m2c\n",
    "\n",
    "js_code = m2c.export_to_javascript(model)\n",
    "\n",
    "# Save the generated JavaScript code\n",
    "with open(\"plant_stress_rf_model.js\", \"w\") as f:\n",
    "    f.write(js_code)\n"
   ]
  }
 ],
 "metadata": {
  "kernelspec": {
   "display_name": "Python 3",
   "language": "python",
   "name": "python3"
  },
  "language_info": {
   "codemirror_mode": {
    "name": "ipython",
    "version": 3
   },
   "file_extension": ".py",
   "mimetype": "text/x-python",
   "name": "python",
   "nbconvert_exporter": "python",
   "pygments_lexer": "ipython3",
   "version": "3.10.8"
  }
 },
 "nbformat": 4,
 "nbformat_minor": 2
}
