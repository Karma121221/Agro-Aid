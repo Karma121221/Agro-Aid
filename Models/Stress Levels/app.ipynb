{
 "cells": [
  {
   "cell_type": "code",
   "execution_count": null,
   "metadata": {},
   "outputs": [],
   "source": [
    "import joblib\n",
    "import numpy as np\n",
    "\n",
    "# Load the saved model\n",
    "model = joblib.load('/kaggle/working/plant_stress_rf_model.pkl')"
   ]
  },
  {
   "cell_type": "code",
   "execution_count": null,
   "metadata": {},
   "outputs": [],
   "source": [
    "# Prompt user for input values\n",
    "soil_moisture = float(input(\"Enter Soil Moisture: \"))\n",
    "ambient_temperature = float(input(\"Enter Ambient Temperature: \"))\n",
    "soil_temperature = float(input(\"Enter Soil Temperature: \"))\n",
    "humidity = float(input(\"Enter Humidity: \"))\n",
    "light_intensity = float(input(\"Enter Light Intensity: \"))\n",
    "soil_ph = float(input(\"Enter Soil pH: \"))\n",
    "nitrogen_level = float(input(\"Enter Nitrogen Level: \"))\n",
    "phosphorus_level = float(input(\"Enter Phosphorus Level: \"))\n",
    "potassium_level = float(input(\"Enter Potassium Level: \"))\n",
    "chlorophyll_content = float(input(\"Enter Chlorophyll Content: \"))\n",
    "electrochemical_signal = float(input(\"Enter Electrochemical Signal: \"))"
   ]
  },
  {
   "cell_type": "code",
   "execution_count": null,
   "metadata": {},
   "outputs": [],
   "source": [
    "# Arrange the inputs in the order expected by the model\n",
    "# Make sure the order of features here matches the order used during training.\n",
    "input_features = np.array([soil_moisture, ambient_temperature, soil_temperature, humidity,\n",
    "                           light_intensity, soil_ph, nitrogen_level, phosphorus_level,\n",
    "                           potassium_level, chlorophyll_content, electrochemical_signal]).reshape(1, -1)\n",
    "\n",
    "# Predict the plant's health status (stress level)\n",
    "prediction = model.predict(input_features)\n",
    "print(\"Predicted Plant Health Status (Stress Level):\", prediction[0])"
   ]
  }
 ],
 "metadata": {
  "language_info": {
   "name": "python"
  }
 },
 "nbformat": 4,
 "nbformat_minor": 2
}
