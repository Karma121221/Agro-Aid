{
 "cells": [
  {
   "cell_type": "code",
   "execution_count": 3,
   "id": "9e7dea64",
   "metadata": {},
   "outputs": [],
   "source": [
    "import joblib\n",
    "import m2cgen as m2c\n",
    "\n",
    "# Load the pipeline\n",
    "pipeline = joblib.load(\"best_rf_yield.pkl\")\n",
    "\n",
    "# Extract only the RandomForest model\n",
    "model = pipeline.named_steps['regressor']\n",
    "\n",
    "# Convert the model to JavaScript code\n",
    "js_code = m2c.export_to_javascript(model)\n",
    "\n",
    "# Save to a JS file\n",
    "with open(\"random_forest_model.js\", \"w\") as f:\n",
    "    f.write(js_code)\n"
   ]
  }
 ],
 "metadata": {
  "kernelspec": {
   "display_name": "Python 3",
   "language": "python",
   "name": "python3"
  },
  "language_info": {
   "codemirror_mode": {
    "name": "ipython",
    "version": 3
   },
   "file_extension": ".py",
   "mimetype": "text/x-python",
   "name": "python",
   "nbconvert_exporter": "python",
   "pygments_lexer": "ipython3",
   "version": "3.10.8"
  }
 },
 "nbformat": 4,
 "nbformat_minor": 5
}
