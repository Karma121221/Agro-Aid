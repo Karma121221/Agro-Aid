{
 "cells": [
  {
   "cell_type": "code",
   "execution_count": 1,
   "id": "fe153204",
   "metadata": {},
   "outputs": [
    {
     "name": "stdout",
     "output_type": "stream",
     "text": [
      "Predicted Crop Yield: 4.00 tonnes per hectare\n"
     ]
    }
   ],
   "source": [
    "import joblib\n",
    "import pandas as pd\n",
    "model = joblib.load('best_rf_yield.pkl')\n",
    "\n",
    "# Units:\n",
    "# - Land area: hectares\n",
    "# - Crop production: metric tonnes\n",
    "# - Crop yield (predicted output): metric tonnes per hectare\n",
    "new_data = pd.DataFrame([{\n",
    "    'srcStateName': 'PUNJAB',\n",
    "    'Crop name': 'Maize',\n",
    "    'srcDistrictName': 'SANGRUR',\n",
    "    'Crop season': 'Kharif',\n",
    "    'Land area utilized for production': 1000,  # in hectares\n",
    "    'Crop production': 4000                     # in metric tonnes\n",
    "}])\n",
    "\n",
    "predicted_yield = model.predict(new_data)\n",
    "\n",
    "print(f\"Predicted Crop Yield: {predicted_yield[0]:.2f} tonnes per hectare\")"
   ]
  },
  {
   "cell_type": "code",
   "execution_count": null,
   "id": "a68b0e0d",
   "metadata": {},
   "outputs": [],
   "source": []
  }
 ],
 "metadata": {
  "kernelspec": {
   "display_name": "Python 3",
   "language": "python",
   "name": "python3"
  },
  "language_info": {
   "codemirror_mode": {
    "name": "ipython",
    "version": 3
   },
   "file_extension": ".py",
   "mimetype": "text/x-python",
   "name": "python",
   "nbconvert_exporter": "python",
   "pygments_lexer": "ipython3",
   "version": "3.10.8"
  }
 },
 "nbformat": 4,
 "nbformat_minor": 5
}
